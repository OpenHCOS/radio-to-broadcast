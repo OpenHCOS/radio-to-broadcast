{
  "nbformat": 4,
  "nbformat_minor": 0,
  "metadata": {
    "colab": {
      "name": "“Interactive textgenrnn Demo w/ GPU”的副本",
      "version": "0.3.2",
      "views": {},
      "default_view": {},
      "provenance": [
        {
          "file_id": "1mMKGnVxirJnqDViH7BDJxFqWrsXlPSoK",
          "timestamp": 1525925620450
        }
      ],
      "collapsed_sections": []
    },
    "kernelspec": {
      "name": "python3",
      "display_name": "Python 3"
    },
    "accelerator": "GPU"
  },
  "cells": [
    {
      "metadata": {
        "id": "H7LoMj4GA4n_",
        "colab_type": "text"
      },
      "cell_type": "markdown",
      "source": [
        "#  Interactive textgenrnn Demo w/ GPU\n",
        "\n",
        "by [Max Woolf](http://minimaxir.com)\n",
        "\n",
        "Generate text using a pretrained neural network with a few lines of code, or easily train your own text-generating neural network of any size and complexity, **for free on a GPU using Collaboratory!**\n",
        "\n",
        "For more about textgenrnn, you can visit [this GitHub repository](https://github.com/minimaxir/textgenrnn).\n",
        "\n",
        "\n",
        "To get started:\n",
        "\n",
        "1. Copy this notebook to your Google Drive to keep it and save your changes.\n",
        "2. Make sure you're running the notebook in Google Chrome.\n",
        "3. The GPU should automatically be selected as the runtime. To verify, in the *Runtime* menu, under *Hardware*, select \"GPU\".\n",
        "4. Run the cells below:\n"
      ]
    },
    {
      "metadata": {
        "id": "KBkpRgBCBS2_",
        "colab_type": "code",
        "colab": {
          "autoexec": {
            "startup": false,
            "wait_interval": 0
          },
          "base_uri": "https://localhost:8080/",
          "height": 34
        },
        "outputId": "c95a4c75-6b12-4f21-cd7c-01805688f953",
        "executionInfo": {
          "status": "ok",
          "timestamp": 1525925744653,
          "user_tz": -480,
          "elapsed": 12649,
          "user": {
            "displayName": "Joye Lin",
            "photoUrl": "//lh3.googleusercontent.com/-bcfqtnarokM/AAAAAAAAAAI/AAAAAAAAA0o/3fPNJQgBSRA/s50-c-k-no/photo.jpg",
            "userId": "116052379623397587610"
          }
        }
      },
      "cell_type": "code",
      "source": [
        "!pip install -q textgenrnn\n",
        "from google.colab import files\n",
        "from textgenrnn import textgenrnn\n",
        "import os"
      ],
      "execution_count": 1,
      "outputs": [
        {
          "output_type": "stream",
          "text": [
            "Using TensorFlow backend.\n"
          ],
          "name": "stderr"
        }
      ]
    },
    {
      "metadata": {
        "id": "0wXB05bPDYxS",
        "colab_type": "text"
      },
      "cell_type": "markdown",
      "source": [
        "Set the textgenrnn model configuration here. (see the [demo notebook](https://github.com/minimaxir/textgenrnn/blob/master/docs/textgenrnn-demo.ipynb) for more information about these parameters)\n",
        "\n",
        "If you are using an input file where documents are line-delimited, set `line_delimited` to `True`."
      ]
    },
    {
      "metadata": {
        "id": "P8wSlgXoDPCR",
        "colab_type": "code",
        "colab": {
          "autoexec": {
            "startup": false,
            "wait_interval": 0
          }
        }
      },
      "cell_type": "code",
      "source": [
        "model_cfg = {\n",
        "    'rnn_layers': 4,\n",
        "    'rnn_size': 128,\n",
        "    'rnn_bidirectional': True,\n",
        "    'max_length': 40,\n",
        "    'max_words': 10000,\n",
        "    'dim_embeddings': 100,\n",
        "    'word_level': False,\n",
        "}\n",
        "\n",
        "train_cfg = {\n",
        "    'line_delimited': True,\n",
        "    'num_epochs': 50,\n",
        "    'gen_epochs': 5,\n",
        "    'batch_size': 1024,\n",
        "    'train_size': 0.8,\n",
        "    'dropout': 0.1,\n",
        "    'max_gen_length': 300,\n",
        "    'validation': False,\n",
        "    'is_csv': False\n",
        "}"
      ],
      "execution_count": 0,
      "outputs": []
    },
    {
      "metadata": {
        "id": "BT__brhBCvJu",
        "colab_type": "text"
      },
      "cell_type": "markdown",
      "source": [
        "After running the next cell, the cell will ask you to upload a file. Upload **any text file** and textgenrnn will start training and generating creative text based on that file!\n",
        "\n",
        "The cell after that will start the training. And thanks to the power of Keras's CuDNN layers, training is super-fast! When the training is done, running the cell after this will automatically download the weights, the vocab, and the config.\n",
        "\n",
        "(N.B. the uploaded file is only stored in the Colaboratory VM and no one else can see it)"
      ]
    },
    {
      "metadata": {
        "id": "6OFnPCLADfll",
        "colab_type": "code",
        "colab": {
          "autoexec": {
            "startup": false,
            "wait_interval": 0
          },
          "resources": {
            "http://localhost:8080/nbextensions/google.colab/files.js": {
              "data": "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",
              "ok": true,
              "headers": [
                [
                  "content-type",
                  "application/javascript"
                ]
              ],
              "status": 200,
              "status_text": ""
            }
          },
          "base_uri": "https://localhost:8080/",
          "height": 74
        },
        "outputId": "47e17164-bada-4c2a-cbe2-94c3f357aaf1",
        "executionInfo": {
          "status": "ok",
          "timestamp": 1525929434950,
          "user_tz": -480,
          "elapsed": 15430,
          "user": {
            "displayName": "Joye Lin",
            "photoUrl": "//lh3.googleusercontent.com/-bcfqtnarokM/AAAAAAAAAAI/AAAAAAAAA0o/3fPNJQgBSRA/s50-c-k-no/photo.jpg",
            "userId": "116052379623397587610"
          }
        }
      },
      "cell_type": "code",
      "source": [
        "uploaded = files.upload()\n",
        "all_files = [(name, os.path.getmtime(name)) for name in os.listdir()]\n",
        "latest_file = sorted(all_files, key=lambda x: -x[1])[0][0]"
      ],
      "execution_count": 11,
      "outputs": [
        {
          "output_type": "display_data",
          "data": {
            "text/html": [
              "\n",
              "     <input type=\"file\" id=\"files-27083224-48d3-4544-b33b-b5605f096e30\" name=\"files[]\" multiple disabled />\n",
              "     <output id=\"result-27083224-48d3-4544-b33b-b5605f096e30\">\n",
              "      Upload widget is only available when the cell has been executed in the\n",
              "      current browser session. Please rerun this cell to enable.\n",
              "      </output>\n",
              "      <script src=\"/nbextensions/google.colab/files.js\"></script> "
            ],
            "text/plain": [
              "<IPython.core.display.HTML object>"
            ]
          },
          "metadata": {
            "tags": []
          }
        },
        {
          "output_type": "stream",
          "text": [
            "Saving all_training_lyrics.txt to all_training_lyrics.txt\n"
          ],
          "name": "stdout"
        }
      ]
    },
    {
      "metadata": {
        "id": "aeXshJM-Cuaf",
        "colab_type": "code",
        "colab": {
          "autoexec": {
            "startup": false,
            "wait_interval": 0
          },
          "base_uri": "https://localhost:8080/",
          "height": 6358
        },
        "outputId": "9fd74bae-5cfc-497d-b4e6-6c17c7560586",
        "executionInfo": {
          "status": "ok",
          "timestamp": 1525930623271,
          "user_tz": -480,
          "elapsed": 1183960,
          "user": {
            "displayName": "Joye Lin",
            "photoUrl": "//lh3.googleusercontent.com/-bcfqtnarokM/AAAAAAAAAAI/AAAAAAAAA0o/3fPNJQgBSRA/s50-c-k-no/photo.jpg",
            "userId": "116052379623397587610"
          }
        }
      },
      "cell_type": "code",
      "source": [
        "model_name = 'colaboratory'\n",
        "textgen = textgenrnn(name=model_name)\n",
        "\n",
        "train_function = textgen.train_from_file if train_cfg['line_delimited'] else textgen.train_from_largetext_file\n",
        "\n",
        "train_function(\n",
        "    file_path=latest_file,\n",
        "    new_model=True,\n",
        "    num_epochs=train_cfg['num_epochs'],\n",
        "    gen_epochs=train_cfg['gen_epochs'],\n",
        "    batch_size=train_cfg['batch_size'],\n",
        "    train_size=train_cfg['train_size'],\n",
        "    dropout=train_cfg['dropout'],\n",
        "    max_gen_length=train_cfg['max_gen_length'],\n",
        "    validation=train_cfg['validation'],\n",
        "    is_csv=train_cfg['is_csv'],\n",
        "    rnn_layers=model_cfg['rnn_layers'],\n",
        "    rnn_size=model_cfg['rnn_size'],\n",
        "    rnn_bidirectional=model_cfg['rnn_bidirectional'],\n",
        "    max_length=model_cfg['max_length'],\n",
        "    dim_embeddings=model_cfg['dim_embeddings'],\n",
        "    word_level=model_cfg['word_level'])"
      ],
      "execution_count": 12,
      "outputs": [
        {
          "output_type": "stream",
          "text": [
            "6,610 texts collected.\n",
            "Training new model w/ 4-layer, 128-cell Bidirectional LSTMs\n",
            "Training on 59,936 character sequences.\n",
            "Epoch 1/50\n",
            "58/58 [==============================] - 25s 430ms/step - loss: 7.4677\n",
            "Epoch 2/50\n",
            "58/58 [==============================] - 23s 400ms/step - loss: 4.9553\n",
            "Epoch 3/50\n",
            "58/58 [==============================] - 23s 402ms/step - loss: 4.3854\n",
            "Epoch 4/50\n",
            "58/58 [==============================] - 23s 401ms/step - loss: 3.9818\n",
            "Epoch 5/50\n",
            "45/58 [======================>.......] - ETA: 5s - loss: 3.6174"
          ],
          "name": "stdout"
        },
        {
          "output_type": "stream",
          "text": [
            "58/58 [==============================] - 23s 401ms/step - loss: 3.6169\n",
            "####################\n",
            "Temperature: 0.2\n",
            "####################\n",
            "\n",
            "\n",
            "\n",
            "\n",
            "\n",
            "\n",
            "####################\n",
            "Temperature: 0.5\n",
            "####################\n",
            "\n",
            "\n",
            "\n",
            "\n",
            "\n",
            "\n",
            "####################\n",
            "Temperature: 1.0\n",
            "####################\n",
            "你為了緣分手管我忽然後\n",
            "\n",
            "手著歡喜　接堤上的翅膀\n",
            "\n",
            "\n",
            "\n",
            "Epoch 6/50\n",
            "58/58 [==============================] - 23s 401ms/step - loss: 3.2836\n",
            "Epoch 7/50\n",
            "58/58 [==============================] - 23s 402ms/step - loss: 2.9740\n",
            "Epoch 8/50\n",
            "58/58 [==============================] - 23s 402ms/step - loss: 2.6880\n",
            "Epoch 9/50\n",
            "31/58 [===============>..............] - ETA: 10s - loss: 2.3818"
          ],
          "name": "stdout"
        },
        {
          "output_type": "stream",
          "text": [
            "58/58 [==============================] - 23s 401ms/step - loss: 2.4220\n",
            "Epoch 10/50\n",
            "58/58 [==============================] - 23s 402ms/step - loss: 2.1738\n",
            "####################\n",
            "Temperature: 0.2\n",
            "####################\n",
            "\n",
            "\n",
            "\n",
            "\n",
            "\n",
            "\n",
            "####################\n",
            "Temperature: 0.5\n",
            "####################\n",
            "\n",
            "\n",
            "\n",
            "\n",
            "\n",
            "\n",
            "####################\n",
            "Temperature: 1.0\n",
            "####################\n",
            "\n",
            "\n",
            "你只能誠實你就放手不下嗎\n",
            "\n",
            "多少年若有你值得得知 EEE AL 我們還不見\n",
            "\n",
            "Epoch 11/50\n",
            "58/58 [==============================] - 23s 401ms/step - loss: 1.9596\n",
            "Epoch 12/50\n",
            "58/58 [==============================] - 23s 401ms/step - loss: 1.7620\n",
            "Epoch 13/50\n",
            "46/58 [======================>.......] - ETA: 4s - loss: 1.5646"
          ],
          "name": "stdout"
        },
        {
          "output_type": "stream",
          "text": [
            "58/58 [==============================] - 23s 402ms/step - loss: 1.5893\n",
            "Epoch 14/50\n",
            "58/58 [==============================] - 23s 402ms/step - loss: 1.4401\n",
            "Epoch 15/50\n",
            "58/58 [==============================] - 23s 401ms/step - loss: 1.3048\n",
            "####################\n",
            "Temperature: 0.2\n",
            "####################\n",
            "\n",
            "\n",
            "\n",
            "\n",
            "\n",
            "\n",
            "####################\n",
            "Temperature: 0.5\n",
            "####################\n",
            "＾\n",
            "\n",
            "\n",
            "\n",
            "我不知道其中一定的背影\n",
            "\n",
            "####################\n",
            "Temperature: 1.0\n",
            "####################\n",
            "\n",
            "\n",
            "一顆心版我倔強送給你表情\n",
            "\n",
            "\n",
            "\n",
            "Epoch 16/50\n",
            "58/58 [==============================] - 23s 401ms/step - loss: 1.2013\n",
            "Epoch 17/50\n",
            "58/58 [==============================] - 23s 402ms/step - loss: 1.1063\n",
            "Epoch 18/50\n",
            "11/58 [====>.........................] - ETA: 18s - loss: 0.9774"
          ],
          "name": "stdout"
        },
        {
          "output_type": "stream",
          "text": [
            "58/58 [==============================] - 23s 402ms/step - loss: 1.0273\n",
            "Epoch 19/50\n",
            "58/58 [==============================] - 23s 401ms/step - loss: 0.9691\n",
            "Epoch 20/50\n",
            "58/58 [==============================] - 23s 401ms/step - loss: 0.9114\n",
            "####################\n",
            "Temperature: 0.2\n",
            "####################\n",
            "\n",
            "\n",
            "\n",
            "\n",
            "\n",
            "\n",
            "####################\n",
            "Temperature: 0.5\n",
            "####################\n",
            "\n",
            "\n",
            "\n",
            "\n",
            "\n",
            "\n",
            "####################\n",
            "Temperature: 1.0\n",
            "####################\n",
            "沒有什麼會永垂不朽\n",
            "\n",
            "BABY　請別再用妳的淚\n",
            "\n",
            "如果真的冷不如泉源\n",
            "\n",
            "Epoch 21/50\n",
            "58/58 [==============================] - 23s 401ms/step - loss: 0.8704\n",
            "Epoch 22/50\n",
            "58/58 [==============================] - 23s 402ms/step - loss: 0.8399\n",
            "Epoch 23/50\n",
            " 6/58 [==>...........................] - ETA: 20s - loss: 0.7661"
          ],
          "name": "stdout"
        },
        {
          "output_type": "stream",
          "text": [
            "58/58 [==============================] - 23s 402ms/step - loss: 0.8089\n",
            "Epoch 24/50\n",
            "58/58 [==============================] - 23s 401ms/step - loss: 0.7887\n",
            "Epoch 25/50\n",
            "58/58 [==============================] - 23s 401ms/step - loss: 0.7701\n",
            "####################\n",
            "Temperature: 0.2\n",
            "####################\n",
            "\n",
            "\n",
            "\n",
            "\n",
            "\n",
            "\n",
            "####################\n",
            "Temperature: 0.5\n",
            "####################\n",
            "\n",
            "\n",
            "\n",
            "\n",
            "\n",
            "\n",
            "####################\n",
            "Temperature: 1.0\n",
            "####################\n",
            "\n",
            "\n",
            "當我一個人看不見\n",
            "\n",
            "漸漸適合的一步\n",
            "\n",
            "Epoch 26/50\n",
            "58/58 [==============================] - 23s 401ms/step - loss: 0.7525\n",
            "Epoch 27/50\n",
            "58/58 [==============================] - 23s 401ms/step - loss: 0.7429\n",
            "Epoch 28/50\n",
            " 9/58 [===>..........................] - ETA: 19s - loss: 0.6919"
          ],
          "name": "stdout"
        },
        {
          "output_type": "stream",
          "text": [
            "58/58 [==============================] - 23s 401ms/step - loss: 0.7319\n",
            "Epoch 29/50\n",
            "58/58 [==============================] - 23s 402ms/step - loss: 0.7170\n",
            "Epoch 30/50\n",
            "58/58 [==============================] - 23s 402ms/step - loss: 0.7095\n",
            "####################\n",
            "Temperature: 0.2\n",
            "####################\n",
            "\n",
            "\n",
            "\n",
            "\n",
            "\n",
            "\n",
            "####################\n",
            "Temperature: 0.5\n",
            "####################\n",
            "我愛你那麼多 愛得那麼痛\n",
            "\n",
            "心靈啊 我最初的家\n",
            "\n",
            "\n",
            "\n",
            "####################\n",
            "Temperature: 1.0\n",
            "####################\n",
            "用了點眼 也不會留一個呼吸\n",
            "\n",
            "我不否認對他曾經有冷漠的宣搖\n",
            "\n",
            "＾\n",
            "\n",
            "Epoch 31/50\n",
            "58/58 [==============================] - 23s 400ms/step - loss: 0.7043\n",
            "Epoch 32/50\n",
            "58/58 [==============================] - 23s 401ms/step - loss: 0.6957\n",
            "Epoch 33/50\n",
            " 2/58 [>.............................] - ETA: 21s - loss: 0.6441"
          ],
          "name": "stdout"
        },
        {
          "output_type": "stream",
          "text": [
            "58/58 [==============================] - 23s 401ms/step - loss: 0.6840\n",
            "Epoch 34/50\n",
            "58/58 [==============================] - 23s 401ms/step - loss: 0.6807\n",
            "Epoch 35/50\n",
            "58/58 [==============================] - 23s 400ms/step - loss: 0.6720\n",
            "####################\n",
            "Temperature: 0.2\n",
            "####################\n",
            "\n",
            "\n",
            "\n",
            "\n",
            "\n",
            "\n",
            "####################\n",
            "Temperature: 0.5\n",
            "####################\n",
            "我的淚已經流乾　我的心怏怏收帆　任憑它天旋地轉　我不再會動彈　也無言問原\n",
            "\n",
            "我們都要幸福　很幸福　才不忘當初決定分手的痛苦\n",
            "\n",
            "\n",
            "\n",
            "####################\n",
            "Temperature: 1.0\n",
            "####################\n",
            "\n",
            "\n",
            "當我想訴說這些年來的感觸\n",
            "\n",
            "你的心如果 現在等待我\n",
            "\n",
            "Epoch 36/50\n",
            "58/58 [==============================] - 23s 401ms/step - loss: 0.6685\n",
            "Epoch 37/50\n",
            "55/58 [===========================>..] - ETA: 1s - loss: 0.6622"
          ],
          "name": "stdout"
        },
        {
          "output_type": "stream",
          "text": [
            "58/58 [==============================] - 23s 401ms/step - loss: 0.6631\n",
            "Epoch 38/50\n",
            "58/58 [==============================] - 23s 401ms/step - loss: 0.6586\n",
            "Epoch 39/50\n",
            "58/58 [==============================] - 23s 401ms/step - loss: 0.6540\n",
            "Epoch 40/50\n",
            "58/58 [==============================] - 23s 400ms/step - loss: 0.6505\n",
            "####################\n",
            "Temperature: 0.2\n",
            "####################\n",
            "\n",
            "\n",
            "\n",
            "\n",
            "\n",
            "\n",
            "####################\n",
            "Temperature: 0.5\n",
            "####################\n",
            "\n",
            "\n",
            "\n",
            "\n",
            "\n",
            "\n",
            "####################\n",
            "Temperature: 1.0\n",
            "####################\n",
            "有些歌 我聽了 你說 好久 會快樂\n",
            "\n",
            "明天不會有淚\n",
            "\n",
            "命運暗示血兒永遠的夢境　會安慰自由\n",
            "\n",
            "Epoch 41/50\n",
            "58/58 [==============================] - 23s 400ms/step - loss: 0.6413\n",
            "Epoch 42/50\n",
            "28/58 [=============>................] - ETA: 11s - loss: 0.6321"
          ],
          "name": "stdout"
        },
        {
          "output_type": "stream",
          "text": [
            "58/58 [==============================] - 23s 400ms/step - loss: 0.6398\n",
            "Epoch 43/50\n",
            "58/58 [==============================] - 23s 401ms/step - loss: 0.6354\n",
            "Epoch 44/50\n",
            "58/58 [==============================] - 23s 401ms/step - loss: 0.6290\n",
            "Epoch 45/50\n",
            "58/58 [==============================] - 23s 401ms/step - loss: 0.6252\n",
            "####################\n",
            "Temperature: 0.2\n",
            "####################\n",
            "\n",
            "\n",
            "\n",
            "\n",
            "\n",
            "\n",
            "####################\n",
            "Temperature: 0.5\n",
            "####################\n",
            "我是風箏　有幾種束縛　所能錯無奈　只因落單往日出來\n",
            "\n",
            "\n",
            "\n",
            "我們都在不斷趕路忘記了出路 在失望中追求偶爾的滿足\n",
            "\n",
            "####################\n",
            "Temperature: 1.0\n",
            "####################\n",
            "卻相思綿綿無絕期\n",
            "\n",
            "也是天使太多的軟語\n",
            "\n",
            "只是怕親手將我的真心葬送 即使我們沒有你的事情\n",
            "\n",
            "Epoch 46/50\n",
            "58/58 [==============================] - 23s 400ms/step - loss: 0.6205\n",
            "Epoch 47/50\n",
            "19/58 [========>.....................] - ETA: 15s - loss: 0.6283"
          ],
          "name": "stdout"
        },
        {
          "output_type": "stream",
          "text": [
            "58/58 [==============================] - 23s 401ms/step - loss: 0.6176\n",
            "Epoch 48/50\n",
            "58/58 [==============================] - 23s 401ms/step - loss: 0.6135\n",
            "Epoch 49/50\n",
            "58/58 [==============================] - 23s 401ms/step - loss: 0.6096\n",
            "Epoch 50/50\n",
            "58/58 [==============================] - 23s 400ms/step - loss: 0.6052\n",
            "####################\n",
            "Temperature: 0.2\n",
            "####################\n",
            "\n",
            "\n",
            "\n",
            "\n",
            "\n",
            "\n",
            "####################\n",
            "Temperature: 0.5\n",
            "####################\n",
            "\n",
            "\n",
            "＾\n",
            "\n",
            "\n",
            "\n",
            "####################\n",
            "Temperature: 1.0\n",
            "####################\n",
            "\n",
            "\n",
            "＾\n",
            "\n",
            "也不止像險峰 留下手長相廝守\n",
            "\n"
          ],
          "name": "stdout"
        }
      ]
    },
    {
      "metadata": {
        "id": "4RNY6RBI9LmL",
        "colab_type": "code",
        "colab": {
          "autoexec": {
            "startup": false,
            "wait_interval": 0
          }
        }
      },
      "cell_type": "code",
      "source": [
        "files.download('{}_weights.hdf5'.format(model_name))\n",
        "files.download('{}_vocab.json'.format(model_name))\n",
        "files.download('{}_config.json'.format(model_name))"
      ],
      "execution_count": 0,
      "outputs": []
    },
    {
      "metadata": {
        "id": "oF4-PqF0Fl7R",
        "colab_type": "text"
      },
      "cell_type": "markdown",
      "source": [
        "To recreate the model on your own computer, you can do:\n",
        "\n",
        "```\n",
        "from textgenrnn import textgenrnn\n",
        "textgen = textgenrnn(weights_path='colaboratory_weights.hdf5',\n",
        "                       vocab_path='colaboratory_vocab.json',\n",
        "                       config_path='colaboratory_config.json')\n",
        "                       \n",
        "textgen.generate_samples(max_gen_length=1000)\n",
        "```\n",
        "\n",
        "Have fun with your new model! :)"
      ]
    },
    {
      "metadata": {
        "id": "rIHiVP53FnsX",
        "colab_type": "code",
        "colab": {
          "autoexec": {
            "startup": false,
            "wait_interval": 0
          },
          "base_uri": "https://localhost:8080/",
          "height": 51
        },
        "outputId": "b8b9235f-7ff6-4922-dccf-eafe59ec85fb",
        "executionInfo": {
          "status": "ok",
          "timestamp": 1525930723322,
          "user_tz": -480,
          "elapsed": 866,
          "user": {
            "displayName": "Joye Lin",
            "photoUrl": "//lh3.googleusercontent.com/-bcfqtnarokM/AAAAAAAAAAI/AAAAAAAAA0o/3fPNJQgBSRA/s50-c-k-no/photo.jpg",
            "userId": "116052379623397587610"
          }
        }
      },
      "cell_type": "code",
      "source": [
        "textgen.generate(temperature=1, max_gen_length=1000)"
      ],
      "execution_count": 17,
      "outputs": [
        {
          "output_type": "stream",
          "text": [
            "白淨的紙　讓我若有所思　對愛恨望如何一點\n",
            "\n"
          ],
          "name": "stdout"
        }
      ]
    },
    {
      "metadata": {
        "id": "7ZkUZ8ibjxa_",
        "colab_type": "code",
        "colab": {
          "autoexec": {
            "startup": false,
            "wait_interval": 0
          }
        }
      },
      "cell_type": "code",
      "source": [
        ""
      ],
      "execution_count": 0,
      "outputs": []
    }
  ]
}